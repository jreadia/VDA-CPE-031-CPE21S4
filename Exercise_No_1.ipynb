{
  "nbformat": 4,
  "nbformat_minor": 0,
  "metadata": {
    "colab": {
      "provenance": [],
      "toc_visible": true,
      "authorship_tag": "ABX9TyMFaFpMoLAewgxiymrYUNHv",
      "include_colab_link": true
    },
    "kernelspec": {
      "name": "python3",
      "display_name": "Python 3"
    },
    "language_info": {
      "name": "python"
    }
  },
  "cells": [
    {
      "cell_type": "markdown",
      "metadata": {
        "id": "view-in-github",
        "colab_type": "text"
      },
      "source": [
        "<a href=\"https://colab.research.google.com/github/jreadia/VDA-CPE-031-CPE21S4/blob/main/Exercise_No_1.ipynb\" target=\"_parent\"><img src=\"https://colab.research.google.com/assets/colab-badge.svg\" alt=\"Open In Colab\"/></a>"
      ]
    },
    {
      "cell_type": "markdown",
      "source": [
        "Exercise 1"
      ],
      "metadata": {
        "id": "s4-DmGy32EXY"
      }
    },
    {
      "cell_type": "markdown",
      "source": [
        "# 1. Variables and Data Types"
      ],
      "metadata": {
        "id": "eBWdh0bO-pbi"
      }
    },
    {
      "cell_type": "code",
      "execution_count": null,
      "metadata": {
        "id": "jb3AZI3P0VhQ"
      },
      "outputs": [],
      "source": [
        "# ---------------- VARIABLES AND DATA TYPES ----------------- #\n",
        "\n",
        "# Numbers\n",
        "varNum = 123\n",
        "pi = 3.14159\n",
        "\n",
        "# Strings\n",
        "varString = \"Hello World!\"\n",
        "varText = 'This is a String'\n",
        "\n",
        "# Lists\n",
        "varList = [\"abc\", 123]\n",
        "\n",
        "# Tuples\n",
        "varTuple = ('abc', 123, \"HELLO\")\n",
        "\n",
        "# Dictionaries\n",
        "var = 3\n",
        "varDict = {'first':1, '2':'2nd', 3:var}\n",
        "\n",
        "varDict = {}\n",
        "varDict['first'] = 1\n",
        "varDict['2'] = '2nd'\n",
        "varDict[3] = var"
      ]
    },
    {
      "cell_type": "markdown",
      "source": [
        "# 2. Arithmetic"
      ],
      "metadata": {
        "id": "-7eUI-om-xUB"
      }
    },
    {
      "cell_type": "code",
      "source": [
        "# ----------------- ARITHMETIC ----------------- #\n",
        "\n",
        "# Addition\n",
        "a = 5 + 3 #Output = 8\n",
        "\n",
        "# Subtraction\n",
        "a = 5 - 3 #Output = 2\n",
        "\n",
        "# Multiplication\n",
        "a = 5 * 3 #Output = 15\n",
        "\n",
        "# Exponent\n",
        "a = 5 ** 3 #Output = 125\n",
        "\n",
        "# Division\n",
        "a = 5 / 3 #Output = 1.66666667\n",
        "\n",
        "a = 5 % 3 #Ouput = 2\n",
        "\n",
        "a = 5 // 3 #Ouput = 1\n",
        "\n",
        "# Increment\n",
        "a = 5\n",
        "a += 1 #Output = 6\n",
        "\n",
        "# Decrement\n",
        "a = 5\n",
        "a -= 1 #Ouput = 4\n",
        "\n",
        "# String Concatenation\n",
        "a = 'Hello' + 'World!' #Output = Hello World!\n",
        "\n",
        "# Complex Expressions\n",
        "a = 3 + 5 - 6 * 2 / 4 #Output = 5"
      ],
      "metadata": {
        "id": "xqvzInMe4h-4"
      },
      "execution_count": null,
      "outputs": []
    },
    {
      "cell_type": "markdown",
      "source": [
        "# 3. Control Statements and Data Structures"
      ],
      "metadata": {
        "id": "_gZxFZ3B-4I4"
      }
    },
    {
      "cell_type": "code",
      "source": [
        "# -------- CONTROL STATEMENTS AND DATA STRUCTURES ------- #\n",
        "\n",
        "# Boolean Conditions\n",
        "x = True\n",
        "\n",
        "if x:\n",
        "  print(\"var x is True\")\n",
        "else:\n",
        "  print(\"var x is False\")"
      ],
      "metadata": {
        "colab": {
          "base_uri": "https://localhost:8080/"
        },
        "id": "Paj0woFf7ncp",
        "outputId": "34aaf679-6a35-4bc2-ecbb-726ca11b55e5"
      },
      "execution_count": null,
      "outputs": [
        {
          "output_type": "stream",
          "name": "stdout",
          "text": [
            "var x is True\n"
          ]
        }
      ]
    },
    {
      "cell_type": "code",
      "source": [
        "# String Conditions\n",
        "x = \"Hello World!\"\n",
        "\n",
        "if x == 'Hello World!':\n",
        "  print(\"var x is Hello World!\")\n",
        "else:\n",
        "  print(\"var x is not Hello World!\")"
      ],
      "metadata": {
        "colab": {
          "base_uri": "https://localhost:8080/"
        },
        "id": "wXQzaK7D8HOR",
        "outputId": "a5b055eb-6049-4cf2-e6aa-76fda97d1494"
      },
      "execution_count": null,
      "outputs": [
        {
          "output_type": "stream",
          "name": "stdout",
          "text": [
            "var x is Hello World!\n"
          ]
        }
      ]
    },
    {
      "cell_type": "code",
      "source": [
        "# Numerical Conditions\n",
        "x = 10\n",
        "\n",
        "if x == '10':\n",
        "  print(\"var x is a string\")\n",
        "elif x == 10:\n",
        "  print(\"var x is an integer\")\n",
        "else:\n",
        "  print(\"var x is none of the above\")"
      ],
      "metadata": {
        "colab": {
          "base_uri": "https://localhost:8080/"
        },
        "id": "XTzl9uGE8yDR",
        "outputId": "64156da4-9510-4467-89f3-506c3b93f5bb"
      },
      "execution_count": null,
      "outputs": [
        {
          "output_type": "stream",
          "name": "stdout",
          "text": [
            "var x is an integer\n"
          ]
        }
      ]
    },
    {
      "cell_type": "markdown",
      "source": [
        "# 4. Loops"
      ],
      "metadata": {
        "id": "G8EL5JWT-gFp"
      }
    },
    {
      "cell_type": "code",
      "source": [
        "# Note: The loop declaration ends with a colon(:) while its contents inside are indented"
      ],
      "metadata": {
        "id": "TCCfV88C_IGB"
      },
      "execution_count": null,
      "outputs": []
    },
    {
      "cell_type": "code",
      "source": [
        "# ------------------ LOOPS -------------------- #\n",
        "\n",
        "# For Loops\n",
        "for var in range(0, 5, 2):\n",
        "  print(var)"
      ],
      "metadata": {
        "colab": {
          "base_uri": "https://localhost:8080/"
        },
        "id": "VlaCf00M9S6K",
        "outputId": "7deebf5c-03f6-4224-b53c-9110e1f2fd47"
      },
      "execution_count": null,
      "outputs": [
        {
          "output_type": "stream",
          "name": "stdout",
          "text": [
            "0\n",
            "2\n",
            "4\n"
          ]
        }
      ]
    },
    {
      "cell_type": "code",
      "source": [
        "# While Loops\n",
        "var = 0\n",
        "while var < 5:\n",
        "  print(var)\n",
        "  var += 2"
      ],
      "metadata": {
        "colab": {
          "base_uri": "https://localhost:8080/"
        },
        "id": "clUT2r1v9dVw",
        "outputId": "7f0ab981-a752-43a1-d89d-453f7cda09a1"
      },
      "execution_count": null,
      "outputs": [
        {
          "output_type": "stream",
          "name": "stdout",
          "text": [
            "0\n",
            "2\n",
            "4\n"
          ]
        }
      ]
    },
    {
      "cell_type": "code",
      "source": [
        "# Nested Loops\n",
        "x = 0\n",
        "while x < 5:\n",
        "  for y in range (0, x):\n",
        "    print(y, end='')\n",
        "  x += 1\n",
        "  print()"
      ],
      "metadata": {
        "colab": {
          "base_uri": "https://localhost:8080/"
        },
        "id": "-CQeSXC49nOI",
        "outputId": "66cbd102-4276-4504-ff8e-c793b06894b3"
      },
      "execution_count": null,
      "outputs": [
        {
          "output_type": "stream",
          "name": "stdout",
          "text": [
            "\n",
            "0\n",
            "01\n",
            "012\n",
            "0123\n"
          ]
        }
      ]
    },
    {
      "cell_type": "markdown",
      "source": [
        "# 5. Lists"
      ],
      "metadata": {
        "id": "d-JwI8dZ_uTZ"
      }
    },
    {
      "cell_type": "code",
      "source": [
        "# Note: Lists starts with an index of 0\n",
        "# The remove() method erases the first value that matches the parameter"
      ],
      "metadata": {
        "id": "wPE7Hwau_zRJ"
      },
      "execution_count": null,
      "outputs": []
    },
    {
      "cell_type": "code",
      "source": [
        "# -------------- LISTS ------------ #\n",
        "pi = 3.14159\n",
        "varList = [1, 2, 'A', 'B', 'Hello!', pi]\n",
        "print(varList[0])"
      ],
      "metadata": {
        "colab": {
          "base_uri": "https://localhost:8080/"
        },
        "id": "Z_kQMqCNAAEo",
        "outputId": "1c29033b-f238-4fb0-8cf5-15b7ec8a4b8f"
      },
      "execution_count": null,
      "outputs": [
        {
          "output_type": "stream",
          "name": "stdout",
          "text": [
            "1\n"
          ]
        }
      ]
    },
    {
      "cell_type": "code",
      "source": [
        "print(varList[4])"
      ],
      "metadata": {
        "colab": {
          "base_uri": "https://localhost:8080/"
        },
        "id": "b6keCJpEAT-o",
        "outputId": "3e9deca3-9590-4235-cece-3921e8bf5fde"
      },
      "execution_count": null,
      "outputs": [
        {
          "output_type": "stream",
          "name": "stdout",
          "text": [
            "Hello!\n"
          ]
        }
      ]
    },
    {
      "cell_type": "code",
      "source": [
        "varList.append('World!')\n",
        "print(varList[6])"
      ],
      "metadata": {
        "colab": {
          "base_uri": "https://localhost:8080/"
        },
        "id": "Fii2hqBnAZMh",
        "outputId": "9aa71388-10e5-4359-8dc7-2bf3ebbe107b"
      },
      "execution_count": null,
      "outputs": [
        {
          "output_type": "stream",
          "name": "stdout",
          "text": [
            "World!\n"
          ]
        }
      ]
    },
    {
      "cell_type": "code",
      "source": [
        "len(varList)"
      ],
      "metadata": {
        "colab": {
          "base_uri": "https://localhost:8080/"
        },
        "id": "7TxWQ_NZAkNw",
        "outputId": "97a10dd5-8cb5-440c-eb7d-b96a2b2cf1b3"
      },
      "execution_count": null,
      "outputs": [
        {
          "output_type": "execute_result",
          "data": {
            "text/plain": [
              "7"
            ]
          },
          "metadata": {},
          "execution_count": 17
        }
      ]
    },
    {
      "cell_type": "code",
      "source": [
        "print(varList[5])"
      ],
      "metadata": {
        "colab": {
          "base_uri": "https://localhost:8080/"
        },
        "id": "JWRUQW3SAnOA",
        "outputId": "e8697c38-da4a-49bb-c041-fe66082c5cfc"
      },
      "execution_count": null,
      "outputs": [
        {
          "output_type": "stream",
          "name": "stdout",
          "text": [
            "3.14159\n"
          ]
        }
      ]
    },
    {
      "cell_type": "code",
      "source": [
        "varList.remove(pi)\n",
        "print(varList[5])"
      ],
      "metadata": {
        "colab": {
          "base_uri": "https://localhost:8080/"
        },
        "id": "k_PSn-dnAr9x",
        "outputId": "c0040d6f-218c-4c95-fcf5-ec9d9c454712"
      },
      "execution_count": null,
      "outputs": [
        {
          "output_type": "stream",
          "name": "stdout",
          "text": [
            "World!\n"
          ]
        }
      ]
    },
    {
      "cell_type": "markdown",
      "source": [
        "# 6. Dictionaries"
      ],
      "metadata": {
        "id": "5IDGcXu6BOnH"
      }
    },
    {
      "cell_type": "code",
      "source": [
        "# ------------- DICTIONARIES ------------- #\n",
        "var = \"Hello World!\"\n",
        "varDict = {'first' : 123, 2 : 'abc', '3' : var, 4 : ['lista', 'listb']}\n",
        "print(varDict['first'])"
      ],
      "metadata": {
        "colab": {
          "base_uri": "https://localhost:8080/"
        },
        "id": "XXRSqzl6BSRw",
        "outputId": "96448a43-f7ec-4059-858a-af8e3ecacf38"
      },
      "execution_count": null,
      "outputs": [
        {
          "output_type": "stream",
          "name": "stdout",
          "text": [
            "123\n"
          ]
        }
      ]
    },
    {
      "cell_type": "code",
      "source": [
        "print(varDict[2])"
      ],
      "metadata": {
        "colab": {
          "base_uri": "https://localhost:8080/"
        },
        "id": "eJU2jDXNCDv5",
        "outputId": "3e54a826-9baf-4c98-f34d-b280d1730c97"
      },
      "execution_count": null,
      "outputs": [
        {
          "output_type": "stream",
          "name": "stdout",
          "text": [
            "abc\n"
          ]
        }
      ]
    },
    {
      "cell_type": "code",
      "source": [
        "print(varDict['3'])"
      ],
      "metadata": {
        "colab": {
          "base_uri": "https://localhost:8080/"
        },
        "id": "E1lVX43ICJ9R",
        "outputId": "9ba56a7f-9357-4d6d-d1f6-f0e54fc8eb7d"
      },
      "execution_count": null,
      "outputs": [
        {
          "output_type": "stream",
          "name": "stdout",
          "text": [
            "Hello World!\n"
          ]
        }
      ]
    },
    {
      "cell_type": "code",
      "source": [
        "print(varDict[4])"
      ],
      "metadata": {
        "colab": {
          "base_uri": "https://localhost:8080/"
        },
        "id": "XBEDVa2vCSYJ",
        "outputId": "abf90491-9bc9-4462-acf9-a80574dae5aa"
      },
      "execution_count": null,
      "outputs": [
        {
          "output_type": "stream",
          "name": "stdout",
          "text": [
            "['lista', 'listb']\n"
          ]
        }
      ]
    },
    {
      "cell_type": "code",
      "source": [
        "print(varDict[4][1])"
      ],
      "metadata": {
        "colab": {
          "base_uri": "https://localhost:8080/"
        },
        "id": "ckDG1QXXCTHA",
        "outputId": "4c7895b1-ed64-4396-d0a1-fe77e1ad6c96"
      },
      "execution_count": null,
      "outputs": [
        {
          "output_type": "stream",
          "name": "stdout",
          "text": [
            "listb\n"
          ]
        }
      ]
    },
    {
      "cell_type": "code",
      "source": [
        "len(varDict)"
      ],
      "metadata": {
        "colab": {
          "base_uri": "https://localhost:8080/"
        },
        "id": "lFhJZE2tCU7A",
        "outputId": "3b9c423a-279d-45f0-aa84-8f773d8288ae"
      },
      "execution_count": null,
      "outputs": [
        {
          "output_type": "execute_result",
          "data": {
            "text/plain": [
              "4"
            ]
          },
          "metadata": {},
          "execution_count": 29
        }
      ]
    },
    {
      "cell_type": "markdown",
      "source": [
        "# 7. Generators and Comprehension"
      ],
      "metadata": {
        "id": "XCBXuxpPEDHx"
      }
    },
    {
      "cell_type": "code",
      "source": [
        "# Generators can be use to build list in the memory as objects\n",
        "# Note: Python's built-in range function ---> range([start], stop, [step])"
      ],
      "metadata": {
        "id": "wZLzw_IgEKhg"
      },
      "execution_count": null,
      "outputs": []
    },
    {
      "cell_type": "code",
      "source": [
        "# -------------- GENERATORS AND COMPREHENSION ------------- #\n",
        "\n",
        "def gen_num_up_to(n):\n",
        "  num = 0\n",
        "  while num < n:\n",
        "    yield num\n",
        "    num += 1\n",
        "\n",
        "gen_num_up_to(5) # Note: This creates an object"
      ],
      "metadata": {
        "colab": {
          "base_uri": "https://localhost:8080/"
        },
        "id": "-mo93AEUEbIh",
        "outputId": "6b98077c-d333-4d2a-b118-57e47e91d792"
      },
      "execution_count": null,
      "outputs": [
        {
          "output_type": "execute_result",
          "data": {
            "text/plain": [
              "<generator object gen_num_up_to at 0x7a995a0ed000>"
            ]
          },
          "metadata": {},
          "execution_count": 32
        }
      ]
    },
    {
      "cell_type": "code",
      "source": [
        "varList = gen_num_up_to(5)\n",
        "print([var for var in varList])"
      ],
      "metadata": {
        "colab": {
          "base_uri": "https://localhost:8080/"
        },
        "id": "8vIPsnb4FAmZ",
        "outputId": "14ebe529-4405-4213-d5b6-02ef2c657f20"
      },
      "execution_count": null,
      "outputs": [
        {
          "output_type": "stream",
          "name": "stdout",
          "text": [
            "[0, 1, 2, 3, 4]\n"
          ]
        }
      ]
    },
    {
      "cell_type": "code",
      "source": [
        "def gen_num_up_to(n):\n",
        "  num = 0\n",
        "  while num < n:\n",
        "    yield num\n",
        "    num += 2\n",
        "\n",
        "varList = gen_num_up_to(5)\n",
        "print([var for var in varList])"
      ],
      "metadata": {
        "colab": {
          "base_uri": "https://localhost:8080/"
        },
        "id": "hRznEITOFMwa",
        "outputId": "980f86de-bab0-4823-9041-81210d56810a"
      },
      "execution_count": null,
      "outputs": [
        {
          "output_type": "stream",
          "name": "stdout",
          "text": [
            "[0, 2, 4]\n"
          ]
        }
      ]
    },
    {
      "cell_type": "code",
      "source": [
        "varList = range(0, 5, 2)\n",
        "print([var for var in varList])"
      ],
      "metadata": {
        "colab": {
          "base_uri": "https://localhost:8080/"
        },
        "id": "KakfU2LyFekJ",
        "outputId": "1cb6a2d4-1ce0-410c-a407-f0bc01291484"
      },
      "execution_count": null,
      "outputs": [
        {
          "output_type": "stream",
          "name": "stdout",
          "text": [
            "[0, 2, 4]\n"
          ]
        }
      ]
    },
    {
      "cell_type": "markdown",
      "source": [
        "# 8. Slicing"
      ],
      "metadata": {
        "id": "FlnhCBvfGkeA"
      }
    },
    {
      "cell_type": "code",
      "source": [
        "# Note:\n",
        "# list(start:)\n",
        "# list(:end)\n",
        "# list(start:end)\n",
        "# list(start:end:step)"
      ],
      "metadata": {
        "id": "wowWTgl-IJFZ"
      },
      "execution_count": null,
      "outputs": []
    },
    {
      "cell_type": "code",
      "source": [
        "# -------------- SLICING ------------ #\n",
        "varList = [1, 2, 3, 4, 5, 6, 7, 8, 9, 10]\n",
        "print(varList[:5])"
      ],
      "metadata": {
        "colab": {
          "base_uri": "https://localhost:8080/"
        },
        "id": "SCrTdL9oGnuw",
        "outputId": "3ccef770-d0c4-4c10-9368-6d53b2f27e6f"
      },
      "execution_count": null,
      "outputs": [
        {
          "output_type": "stream",
          "name": "stdout",
          "text": [
            "[1, 2, 3, 4, 5]\n"
          ]
        }
      ]
    },
    {
      "cell_type": "code",
      "source": [
        "print(varList[5:])"
      ],
      "metadata": {
        "colab": {
          "base_uri": "https://localhost:8080/"
        },
        "id": "PaVKHryKG84x",
        "outputId": "b5785479-7c84-48e6-9780-a1448bf37923"
      },
      "execution_count": null,
      "outputs": [
        {
          "output_type": "stream",
          "name": "stdout",
          "text": [
            "[6, 7, 8, 9, 10]\n"
          ]
        }
      ]
    },
    {
      "cell_type": "code",
      "source": [
        "print(varList[:-2])"
      ],
      "metadata": {
        "colab": {
          "base_uri": "https://localhost:8080/"
        },
        "id": "ci8NqjqMHKJx",
        "outputId": "813411fc-1eeb-4da6-fcc4-d230bfe23f39"
      },
      "execution_count": null,
      "outputs": [
        {
          "output_type": "stream",
          "name": "stdout",
          "text": [
            "[1, 2, 3, 4, 5, 6, 7, 8]\n"
          ]
        }
      ]
    },
    {
      "cell_type": "code",
      "source": [
        "print(varList[-2:])"
      ],
      "metadata": {
        "colab": {
          "base_uri": "https://localhost:8080/"
        },
        "id": "X-ctXWQkHZ8K",
        "outputId": "7c1b4176-ce51-4b5f-f470-0b402d0035cb"
      },
      "execution_count": null,
      "outputs": [
        {
          "output_type": "stream",
          "name": "stdout",
          "text": [
            "[9, 10]\n"
          ]
        }
      ]
    },
    {
      "cell_type": "code",
      "source": [
        "print(varList[2:-2])"
      ],
      "metadata": {
        "colab": {
          "base_uri": "https://localhost:8080/"
        },
        "id": "B83TcEqIHff5",
        "outputId": "d243abc3-fa76-4c6e-c1df-1e07088e0e7b"
      },
      "execution_count": null,
      "outputs": [
        {
          "output_type": "stream",
          "name": "stdout",
          "text": [
            "[3, 4, 5, 6, 7, 8]\n"
          ]
        }
      ]
    },
    {
      "cell_type": "code",
      "source": [
        "print(varList[2:8:2])"
      ],
      "metadata": {
        "colab": {
          "base_uri": "https://localhost:8080/"
        },
        "id": "Fb1gpZLEHoVP",
        "outputId": "573063b1-429a-44fa-a48c-570948fd4f98"
      },
      "execution_count": null,
      "outputs": [
        {
          "output_type": "stream",
          "name": "stdout",
          "text": [
            "[3, 5, 7]\n"
          ]
        }
      ]
    },
    {
      "cell_type": "markdown",
      "source": [
        "# 9. Functions"
      ],
      "metadata": {
        "id": "MustBntzIPeJ"
      }
    },
    {
      "cell_type": "code",
      "source": [
        "# Note: Functions are defined with the keyword def before the function name\n",
        "# The function def ends in a colon (:) while the contents are indented"
      ],
      "metadata": {
        "id": "HDns6gEcIUDI"
      },
      "execution_count": null,
      "outputs": []
    },
    {
      "cell_type": "code",
      "source": [
        "# -------------- FUNCTIONS ------------- #\n",
        "def remainder (n, m):\n",
        "  while True:\n",
        "    if n - m < 0:\n",
        "      return n\n",
        "    else:\n",
        "      n = n - m\n",
        "\n",
        "remainder(10, 4)"
      ],
      "metadata": {
        "colab": {
          "base_uri": "https://localhost:8080/"
        },
        "id": "G-whnp0CIha5",
        "outputId": "4ff7cd74-8870-4eed-8b2b-d8a11845763a"
      },
      "execution_count": null,
      "outputs": [
        {
          "output_type": "execute_result",
          "data": {
            "text/plain": [
              "2"
            ]
          },
          "metadata": {},
          "execution_count": 55
        }
      ]
    },
    {
      "cell_type": "markdown",
      "source": [
        "# Coin Flip Challenge"
      ],
      "metadata": {
        "id": "WZ6Qj2xM71pX"
      }
    },
    {
      "cell_type": "code",
      "source": [
        "# ----- COIN FLIP CHALLENGE ----- #\n",
        "\n",
        "# Importing numpy library & generating random number between 0 and 1\n",
        "# 0 = Tails, 1 = Heads\n",
        "import numpy as np\n",
        "\n",
        "# Making the function as a generator to yield the result of each flip\n",
        "def coin_flip(n): # n = number of flips\n",
        "    for _ in range(n):\n",
        "        flip = np.random.randint(0, 2)\n",
        "        yield \"Heads\" if flip == 1 else \"Tails\"\n",
        "\n",
        "# Testing the function as a generator\n",
        "coin_flip(10)"
      ],
      "metadata": {
        "colab": {
          "base_uri": "https://localhost:8080/"
        },
        "id": "GGaZztbn8OZR",
        "outputId": "ab23072d-9ff7-4524-8242-16872b19e1b2"
      },
      "execution_count": 35,
      "outputs": [
        {
          "output_type": "execute_result",
          "data": {
            "text/plain": [
              "<generator object coin_flip at 0x7bfd2ff86260>"
            ]
          },
          "metadata": {},
          "execution_count": 35
        }
      ]
    },
    {
      "cell_type": "code",
      "source": [
        "# Testing the function with list comprehension\n",
        "print([result for result in coin_flip(10)])"
      ],
      "metadata": {
        "colab": {
          "base_uri": "https://localhost:8080/"
        },
        "id": "cxSNnLNNa9tu",
        "outputId": "c255e15d-cd34-4957-e05d-fc0197c66824"
      },
      "execution_count": 36,
      "outputs": [
        {
          "output_type": "stream",
          "name": "stdout",
          "text": [
            "['Tails', 'Heads', 'Heads', 'Tails', 'Heads', 'Heads', 'Heads', 'Tails', 'Heads', 'Tails']\n"
          ]
        }
      ]
    },
    {
      "cell_type": "code",
      "source": [
        "# Testing the function with user input\n",
        "n = int(input(\"Enter the number of times to flip the coin: \"))\n",
        "print([result for result in coin_flip(n)])"
      ],
      "metadata": {
        "colab": {
          "base_uri": "https://localhost:8080/"
        },
        "id": "qn6MFvPzJ6U_",
        "outputId": "6c3aacca-1a6b-43f8-c67f-55b32ce93897"
      },
      "execution_count": 40,
      "outputs": [
        {
          "output_type": "stream",
          "name": "stdout",
          "text": [
            "Enter the number of times to flip the coin: 5\n",
            "['Heads', 'Heads', 'Tails', 'Tails', 'Tails']\n"
          ]
        }
      ]
    }
  ]
}